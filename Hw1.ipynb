{
 "cells": [
  {
   "cell_type": "code",
   "execution_count": 1,
   "id": "4cc5f4fa",
   "metadata": {},
   "outputs": [
    {
     "name": "stdout",
     "output_type": "stream",
     "text": [
      "Requirement already satisfied: numpy in c:\\users\\pc\\appdata\\local\\programs\\python\\python39\\lib\\site-packages (1.23.5)Note: you may need to restart the kernel to use updated packages.\n",
      "\n",
      "\n",
      "[notice] A new release of pip available: 22.1.2 -> 22.3.1\n",
      "[notice] To update, run: python.exe -m pip install --upgrade pip\n"
     ]
    }
   ],
   "source": [
    "pip install numpy"
   ]
  },
  {
   "cell_type": "code",
   "execution_count": 3,
   "id": "fca21640",
   "metadata": {},
   "outputs": [],
   "source": [
    "import numpy as np"
   ]
  },
  {
   "cell_type": "code",
   "execution_count": null,
   "id": "87fdb4a9",
   "metadata": {},
   "outputs": [],
   "source": [
    "# 1 task"
   ]
  },
  {
   "cell_type": "code",
   "execution_count": 9,
   "id": "8dcfda91",
   "metadata": {},
   "outputs": [
    {
     "data": {
      "text/plain": [
       "matrix([[10000.],\n",
       "        [25000.],\n",
       "        [15000.]])"
      ]
     },
     "execution_count": 9,
     "metadata": {},
     "output_type": "execute_result"
    }
   ],
   "source": [
    "a = np.matrix(\"0.05,0.07,0;0.05,0,0.06;1,1,1\")\n",
    "b = np.matrix(\"2250;1400;50000\")\n",
    "a_solve = np.linalg.solve(a,b)\n",
    "a_solve"
   ]
  },
  {
   "cell_type": "code",
   "execution_count": 5,
   "id": "8eed3832",
   "metadata": {},
   "outputs": [],
   "source": [
    "# 2 task"
   ]
  },
  {
   "cell_type": "code",
   "execution_count": 20,
   "id": "32dbc920",
   "metadata": {},
   "outputs": [
    {
     "data": {
      "text/plain": [
       "matrix([[436],\n",
       "        [556],\n",
       "        [336]])"
      ]
     },
     "execution_count": 20,
     "metadata": {},
     "output_type": "execute_result"
    }
   ],
   "source": [
    "a = np.matrix(\"0,2,1;2,1,0;1,1,1\")\n",
    "b = np.matrix(\"1448;1428;1328\")\n",
    "a_solve = np.linalg.solve(a,b)\n",
    "result = a_solve.astype('int')\n",
    "result"
   ]
  },
  {
   "cell_type": "code",
   "execution_count": 10,
   "id": "52713987",
   "metadata": {},
   "outputs": [],
   "source": [
    "# 3 task"
   ]
  },
  {
   "cell_type": "code",
   "execution_count": 2,
   "id": "386696dc",
   "metadata": {},
   "outputs": [
    {
     "data": {
      "text/plain": [
       "matrix([[0.08249158],\n",
       "        [2.02020202],\n",
       "        [0.25084175]])"
      ]
     },
     "execution_count": 2,
     "metadata": {},
     "output_type": "execute_result"
    }
   ],
   "source": [
    "a = np.matrix(\"3,0,3;6,0.25,0;1,0.33,1\")\n",
    "b = np.matrix(\"1;1;1\")\n",
    "a_solve = np.linalg.solve(a,b)\n",
    "a_solve"
   ]
  },
  {
   "cell_type": "code",
   "execution_count": 4,
   "id": "2b9be00d",
   "metadata": {},
   "outputs": [
    {
     "data": {
      "text/plain": [
       "(0.1, 2.0, 0.3)"
      ]
     },
     "execution_count": 4,
     "metadata": {},
     "output_type": "execute_result"
    }
   ],
   "source": [
    "a = round(a_solve[0, 0], 1)\n",
    "b = round(a_solve[1, 0], 1)\n",
    "c = round(a_solve[2, 0], 1)\n",
    "a, b ,c"
   ]
  },
  {
   "cell_type": "code",
   "execution_count": 5,
   "id": "a1f571cc",
   "metadata": {},
   "outputs": [],
   "source": [
    "def get_result(n):\n",
    "    result = 1 / n\n",
    "    result = round(result, 1)\n",
    "    return result"
   ]
  },
  {
   "cell_type": "code",
   "execution_count": 10,
   "id": "f060200b",
   "metadata": {},
   "outputs": [
    {
     "data": {
      "text/plain": [
       "(10.0, 0.5, 3.3)"
      ]
     },
     "execution_count": 10,
     "metadata": {},
     "output_type": "execute_result"
    }
   ],
   "source": [
    "a = get_result(a)\n",
    "b = get_result(b)\n",
    "c = get_result(c)\n",
    "a, b, c"
   ]
  },
  {
   "cell_type": "code",
   "execution_count": 11,
   "id": "47850f5a",
   "metadata": {},
   "outputs": [],
   "source": [
    "# 4 task"
   ]
  },
  {
   "cell_type": "code",
   "execution_count": 18,
   "id": "24d8e69d",
   "metadata": {},
   "outputs": [
    {
     "data": {
      "text/plain": [
       "matrix([[4],\n",
       "        [5],\n",
       "        [3]])"
      ]
     },
     "execution_count": 18,
     "metadata": {},
     "output_type": "execute_result"
    }
   ],
   "source": [
    "a = np.matrix(\"1,1,1;9,3,1;1,-1,1\")\n",
    "b = np.matrix(\"12;54;2\")\n",
    "a_solve = np.linalg.solve(a,b)\n",
    "result = a_solve.astype('int')\n",
    "result"
   ]
  },
  {
   "cell_type": "code",
   "execution_count": 19,
   "id": "2fa999c9",
   "metadata": {},
   "outputs": [],
   "source": [
    "# 5 task"
   ]
  },
  {
   "cell_type": "code",
   "execution_count": 32,
   "id": "8217f711",
   "metadata": {},
   "outputs": [
    {
     "name": "stdout",
     "output_type": "stream",
     "text": [
      "[1 1]\n"
     ]
    }
   ],
   "source": [
    "from numpy import array\n",
    "def get_polynom(coords: list) -> array:\n",
    "    a = []\n",
    "    b = []\n",
    "    for x, y in coords:\n",
    "        row = []\n",
    "        b.append(y)\n",
    "        for i in range(len(coords)):\n",
    "            row.append(x ** i)\n",
    "        a.append(row)\n",
    "    return np.linalg.solve(a, b).astype('int')\n",
    "\n",
    "\n",
    "print(get_polynom([(1,2), (3,4)]))"
   ]
  }
 ],
 "metadata": {
  "kernelspec": {
   "display_name": "Python 3 (ipykernel)",
   "language": "python",
   "name": "python3"
  },
  "language_info": {
   "codemirror_mode": {
    "name": "ipython",
    "version": 3
   },
   "file_extension": ".py",
   "mimetype": "text/x-python",
   "name": "python",
   "nbconvert_exporter": "python",
   "pygments_lexer": "ipython3",
   "version": "3.9.6"
  }
 },
 "nbformat": 4,
 "nbformat_minor": 5
}
